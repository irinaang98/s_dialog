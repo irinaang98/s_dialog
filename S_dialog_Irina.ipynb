{
 "cells": [
  {
   "cell_type": "markdown",
   "id": "618584c2",
   "metadata": {},
   "source": [
    "# Seminar Dialogsystem Abgabe\n",
    "von [Felix Burkhardt](http://felix.syntheticspeech.de)\n"
   ]
  },
  {
   "cell_type": "code",
   "execution_count": 18,
   "id": "b7379a4f",
   "metadata": {},
   "outputs": [],
   "source": [
    "def dialogmanager():\n",
    "    input_s = do_input()\n",
    "    semantics = semantic(input_s)\n",
    "    result = data(semantics)\n",
    "    print(output(result))"
   ]
  },
  {
   "cell_type": "code",
   "execution_count": 25,
   "id": "ee98fccb",
   "metadata": {},
   "outputs": [],
   "source": [
    "def do_input():\n",
    "    return 'apfel'"
   ]
  },
  {
   "cell_type": "code",
   "execution_count": 15,
   "id": "d74dd9d0",
   "metadata": {},
   "outputs": [],
   "source": [
    "def output(results):\n",
    "    return 'das Wetter ist {}'.format(results)"
   ]
  },
  {
   "cell_type": "code",
   "execution_count": 13,
   "id": "f380fb15",
   "metadata": {},
   "outputs": [],
   "source": [
    "def semantic(input_s):\n",
    "    if input_s[0] == 'a':\n",
    "        return 'x'\n",
    "    else:\n",
    "        return 'y'"
   ]
  },
  {
   "cell_type": "code",
   "execution_count": 14,
   "id": "2f490bc3",
   "metadata": {},
   "outputs": [],
   "source": [
    "def data(semantics):\n",
    "    if semantics[0] == 'x':\n",
    "        return 'gut'\n",
    "    else:\n",
    "        return 'schlecht'  "
   ]
  },
  {
   "cell_type": "code",
   "execution_count": 26,
   "id": "58b0cd6c",
   "metadata": {},
   "outputs": [
    {
     "name": "stdout",
     "output_type": "stream",
     "text": [
      "das Wetter ist gut\n"
     ]
    }
   ],
   "source": [
    "dialogmanager()"
   ]
  },
  {
   "cell_type": "markdown",
   "id": "47c75ddd",
   "metadata": {},
   "source": [
    "# **Linksammlung**"
   ]
  },
  {
   "cell_type": "markdown",
   "id": "5398d5bc",
   "metadata": {},
   "source": [
    "# Dialogmanager\n",
    "\n",
    "\n",
    "Welche Aufgaben hat ein Dialogmanager?\n",
    "-\tIst ein internes Kontrollorgan, das die Funktionen Spracherkennung und Sprachausgabe miteinander verbindet\n",
    "-\tVerfügt über ein Dialog-Gedächtnis, das den gesamten Gesprächsverlauf zwischenspeichert\n",
    "-\tweist den Wörtern, die in der Spracherkennung erkannt wurden, Bedeutung zu\n",
    "-\tEntscheidung über den weiteren Dialogfluss\n",
    "-\tWörter oder Phrasen für die Antwort werden an die TTS weitergegeben\n",
    "\tSteuert den Dialog\n",
    "\n",
    "TrindiKit: eine modulbasierte Architektur für Dialogsysteme\n",
    "\n",
    "-\tNLTK (Natuaral language Toolkit): enthält Module für die maschinelle Sprachverarbeitung, wie Tagging, Parsing und semantische Interpretation\n",
    "Module: Eingabe, Ausgabe, Semantic Parsing, Datenanbindung\n",
    "-\tDialogmodule kommunizieren miteinander, nächste Aktionen werden festgelegt (LATEST_MOVES, NEXT_MOVES)\n",
    "\n",
    "Dialogmanager consists of:\n",
    "-\t(1) a number of dialogue modules \n",
    "-\t(2) the information state specification: dialogue modules communicate with each other \n",
    "-\t(3) a dialogue move taxonomy: class Move  actions associated to utterances\n",
    "-\t(4) update rules : consists of precondition and effect\n",
    "-\t(5) a control algorithm: classes are do(), maybe(), repeat()\n",
    "\n",
    "\n",
    "[Trindikit.py](file:///C:/Users/elisa/AppData/Local/Temp/trindikit_py_An_open-source_Python_library_for_dev.pdf)\n",
    "\n",
    "\n"
   ]
  },
  {
   "cell_type": "markdown",
   "id": "ebe05fa2",
   "metadata": {},
   "source": [
    "# **Input**\n",
    "\n",
    "**Infos**\n",
    "- durch Spracherkennung kann Software gesprochene Wörter und Sätze in lesbaren Text umwandeln\n",
    "\n",
    "- Spracherkennung wird immer wichtiger für Kommunikation, Umgang mit Technologie/Medien etc. (Sprachassistenten wie Alexa, Siri oder Cortana werden beliebter und ausgereifter)\n",
    "\n",
    "- wir haben SpeechRecognition-Tutorials für Python gefunden, es aber noch nicht selbst geschafft\n",
    "\n",
    "www.thepythoncode.com/article/using-speech-recognition-to-convert-speech-to-text-python\n",
    "\n",
    "https://realpython.com/python-speech-recognition/\n",
    "\n",
    "\n",
    "\n",
    "- bei der Spracherkennung werden zuerst die Schallwellen über Mikrofon in elektrische Signale und dann in digitale Daten umgewandelt\n",
    "- danach transkribieren verschiedene stochastische Modelle das Audiosignal in Text, etwa das “Hidden Markov Model“ (HMM ; https://de.wikipedia.org/wiki/Hidden_Markov_Model )\n",
    "- dabei wird das Sprachsignal zeitlich in viele kurze Fragmente (z.B. 10 Millisekunden) unterteilt\n",
    "\n",
    "- die Daten werden dann Phonemen (kleinste bedeutungsunterscheidende Laut-Einheiten) zugeordnet\n",
    "- das Trainieren der Software dafür ist schwierig, weil Menschen die gleichen Wörter auf verschiedene Weise aussprechen (z.B. wegen Dialekt, Körperform, etc.)\n",
    "- die Software ermittelt dann nach einem Algorithmus das jeweils wahrscheinlichste Wort für die gefundenen Phoneme\n",
    "\n",
    "- dieser Prozess ist sehr rechenintensiv, deshalb nutzt moderne Spracherkennungs-Software neuronale Netze, um das Sprachsignal vorher für den Computer zu vereinfachen\n",
    "- ”voice activity detectors” (VAD) filtern die Sprache aus dem Audiosignal, damit Umgebungsgeräusche vorher entfernt werden\n",
    "\n",
    "- als Python-Programmierer muss man das aber nicht mehr selbst machen und kann sich fertige APIs (Programmierschnittstellen , application programming interface) für sein Programm herunterladen\n",
    "\n",
    "\n",
    "**Packages**\n",
    "\n",
    "API.AI                https://pypi.org/project/apiai/\n",
    "\n",
    "- mit “API.AI“ kann man Sprachbefehle und Dialogszenarien für einen konkreten Sprecher festlegen\n",
    "- Features:    Speech Recognition, Voice Activity Detection, Natural Language Processing\n",
    "- Installation:            pip install apiai\n",
    "\n",
    "\n",
    "\n",
    "AssemblyAI            https://pypi.org/project/assemblyai/\n",
    "\n",
    "- mit “AssemblyAI API“ kann man Spracherkennung in eine Anwendung integrieren\n",
    "- durch benutzerdefinierte Modelle kann man Wörter und Eigennamen hinzufügen und die Spracherkennung genauer machen\n",
    "- Installation:            pip install assemblyai\n",
    "\n",
    "\n",
    "\n",
    "Google Cloud Speech API    https://pypi.org/project/google-cloud-speech/\n",
    "\n",
    "- bei der “Cloud Speech API“ ermöglichen neuronale Netzwerke die Audio-zu-Text-Unwandlung\n",
    "-  die API erkennt über 80 Sprachen\n",
    "- Installation:            pip install google-cloud-speech\n",
    "\n",
    "\n",
    "\n",
    "Pocketsphinx Python        https://pypi.org/project/pocketsphinx/\n",
    "\n",
    "- “Pocketsphinx“ gehört zum “CMU Sphinx” Open-Source-Toolkit für Spracherkennung\n",
    "- das Paket hat eine Python-Schnittstelle für die Programmbibliotheken “Sphinxbase“ und “Pocketsphinx“\n",
    "- die Spracherkennung funktioniert über Mikrofon (LiveSpeech) und mit Audiodateien\n",
    "- Installation:            pip install pocketsphinx\n",
    "\n",
    "\n",
    "\n",
    "SpeechRecognition        https://pypi.org/project/SpeechRecognition/\n",
    "\n",
    "- “SpeechRecognition” ist eine Programmbibliothek für Spracherkennung, die verschiedene APIs unterstützt, z.B.: Google Cloud Speech, CMU Sphinx, Microsoft Bing Voice Recognition, IBM Speech to Text\n",
    "- Features:    - Erkennen von Spracheingaben über das Mikrofon\n",
    "        - Transkribieren einer Audiodatei\n",
    "        - Audiodaten als Audiodatei abspeichern\n",
    "        - Detaillierte Audioerkennungs-Ergebnisse anzeigen\n",
    "        - Einstellen der Umgebungsgeräusch-Grenzen\n",
    "\n",
    "- Installation:            pip install SpeechRecognition\n",
    "\n",
    "\n",
    "\n",
    "SpeechBrain            https://pypi.org/project/speechbrain/\n",
    "\n",
    "- “SpeechBrain“ ist ein Open-Source- und All-in-One-Sprach-Toolkit auf Basis von “PyTorch“\n",
    "- es soll flexibel und nutzerfreundlich sein und moderne Spracherkennung ermöglichen\n",
    "- Features: bereits trainierte Modelle zur Spracherkennung, Filter gegen Umgebungsgeräusche, Sprecheridentifizierung\n",
    "- Installation:            pip install speechbrain\n",
    "\n",
    "\n",
    "\n",
    "Watson Developer Cloud    https://pypi.org/project/watson-developer-cloud/\n",
    "- Installation:            pip install watson-developer-cloud\n",
    "\n",
    "\n",
    "\n",
    "Wit                https://pypi.org/project/wit/\n",
    "- Installation:            pip install wit\n",
    "\n",
    "\n",
    "\n"
   ]
  },
  {
   "cell_type": "markdown",
   "id": "e0d1fbc3",
   "metadata": {},
   "source": [
    "# Semantic Parsing\n",
    "\n",
    "Einführung in Semantic Parsing: https://www.youtube.com/watch?v=Uj4TMHiUi8I\n",
    "\n",
    "Ein Parser übersetzt natürliche Sprache in logische Ausdrücke/meaning representations; keywords müssen aus Eingabe herausgefiltert werden\n",
    "\n",
    "Bsp.: How tall is Obama? -> How(Fragewort) + tall(Größe) + is(Verb:sein:pres) + Obama(person) + ?(Fragesatz markierung)\n",
    "\n",
    "Zudem erkennt ein parser durch Zusammenführen der Keywords, die semantische Repräsentation eines Satzes und fügt es somit in EInheiten zusammen (How tall + person, dass es sich um wie groß ist eine Person handelt).\n",
    "\n",
    "**Packages:** \n",
    "\n",
    "* nur mit Zahlen: https://pypi.org/project/semantic/\n",
    "\n",
    "* Hier erklärt jemand seinen Python Parser Code (für Zahlberechnungen, in Parser für Keywordfilterung aus Sätzen müsste man sich reinarbeiten):\n",
    "https://aidc.gallery.video/detail/videos/all-videos/video/5828832844001/semantic-parsing---natural-language-understanding-in-python?autoStart=true\n",
    "\n",
    " - Hier ist der Link zu dem Code, den er erklärt: anhand von Zahlen/  Berechnungen https://github.com/mspandit/sippycup\n",
    "\n",
    "* https://github.com/mynlp/ccg2lambda \n",
    "Hier ist ein python semantic parser, der aus einzelnen Sätzen Folgendes (in Prädikatenlogik) ausgeben würde:\n",
    "forall x. (woman(x) -> exists y. ((tea(y) \\/ coffee(y)) /\\ order(x, y)))\n",
    "exists x. (woman(x) /\\ -exists y. (cofee(y) /\\ order(x, y)))\n",
    "exists x. (woman(x) /\\ exists y. (tea(y) /\\ order(x, y)))\n",
    "\n",
    "* https://yale-lily.github.io/spider “Spider is a large-scale complex and cross-domain semantic parsing and text-to-SQL dataset annotated by 11 Yale students.”\n",
    "aber SQL!"
   ]
  },
  {
   "cell_type": "markdown",
   "id": "6adbb2db",
   "metadata": {},
   "source": [
    "# Datenanbindung:\n",
    "\n",
    "Eine **API** (= Application Programming Interface) kann als Schnittstelle verwendet werden, um auf Daten aus dem Web in einem bestimmten Format zuzugreifen.\n",
    "Manche APIs verlangen eine Authorisierung oder Authentifizierung, z.B. über einen Schlüssel *(API key)*, andere sind offen und öffentlich frei zugänglich *(open public API)*.\n",
    "\n",
    "**Fahrplanauskunft Verkehrsverbund Bremen/Niedersachen:**\n",
    "\n",
    "[Information hier](https://www.vbn.de/service/entwicklerinfos/)\n",
    "\n",
    "[Und so sehen die Daten dann aus](http://gtfsr.vbn.de/gtfsr_connect.json)\n",
    "\n",
    "Ein weiteres Dokument kann angefragt werden, um die IDs in den Daten auf Haltestellen usw. mappen zu können.\n",
    "\n",
    "**Wetter:**\n",
    "\n",
    "[AccuWeather](https://developer.accuweather.com/accuweather-forecast-api/apis) (benötigt einen API key)\n",
    "\n",
    "[OpenWeather](https://openweathermap.org/current) (benötigt einen API key, nach Anmeldung auf der Seite kann man im Free Plan 60 calls/Minute und 1,000,000 calls/Monat kostenlos haben)\n",
    "\n",
    "**Corona-Zahlen RKI:**\n",
    "\n",
    "[Schöne open public RKI API](https://api.corona-zahlen.org/docs/#donation)\n",
    "\n",
    "Benötigt wird lediglich das Python-Modul 'requests' (kann mit pip installiert werden).\n",
    "Die Daten werden im JSON-Format zurückgegeben. Es gibt aktuelle Infektions- und Todeszahlen aus Deutschland, weltweite Impfstatistiken und vieles mehr.\n",
    "\n",
    "Beispielaufruf:\n"
   ]
  },
  {
   "cell_type": "code",
   "execution_count": 1,
   "id": "435259b9",
   "metadata": {},
   "outputs": [
    {
     "name": "stdout",
     "output_type": "stream",
     "text": [
      "{'cases': 3548285, 'deaths': 85380, 'recovered': 3220282, 'weekIncidence': 107.83160584527623, 'casesPer100k': 4266.472675587712, 'casesPerWeek': 89680, 'delta': {'cases': 14909, 'deaths': 268, 'recovered': 23358}, 'r': {'value': 0.8, 'date': '2021-05-07T00:00:00.000Z'}, 'meta': {'source': 'Robert Koch-Institut', 'contact': 'Marlon Lueckert (m.lueckert@me.com)', 'info': 'https://github.com/marlon360/rki-covid-api', 'lastUpdate': '2021-05-11T23:00:00.000Z', 'lastCheckedForUpdate': '2021-05-12T16:09:45.491Z'}}\n",
      "107.83160584527623\n",
      "{'data': {'administeredVaccinations': 36837184, 'vaccinated': 28516504, 'vaccination': {'biontech': 19701594, 'moderna': 1870450, 'astraZeneca': 6944460}, 'delta': 782301, 'quote': 0.34288363285161055, 'secondVaccination': {'vaccinated': 8320680, 'vaccination': {'biontech': 7467073, 'moderna': 593411, 'astraZeneca': 232260, 'janssen': 27936}, 'delta': 265564, 'quote': 0.10004820318071735}, 'indication': {'age': None, 'job': None, 'medical': None, 'nursingHome': None, 'secondVaccination': {'age': None, 'job': None, 'medical': None, 'nursingHome': None}}, 'states': {'BW': {'name': 'Baden-Württemberg', 'administeredVaccinations': 4807333, 'vaccinated': 3733109, 'vaccination': {'biontech': 2552148, 'moderna': 255168, 'astraZeneca': 925793}, 'delta': 89172, 'quote': 0.33630418884230595, 'secondVaccination': {'vaccinated': 1074224, 'vaccination': {'biontech': 960306, 'moderna': 66448, 'astraZeneca': 41619, 'janssen': 5851}, 'delta': 43856, 'quote': 0.09677350191353568}, 'indication': {'age': None, 'job': None, 'medical': None, 'nursingHome': None, 'secondVaccination': {'age': None, 'job': None, 'medical': None, 'nursingHome': None}}}, 'BY': {'name': 'Bayern', 'administeredVaccinations': 5822947, 'vaccinated': 4580940, 'vaccination': {'biontech': 3242629, 'moderna': 298230, 'astraZeneca': 1040081}, 'delta': 134314, 'quote': 0.34903099391629716, 'secondVaccination': {'vaccinated': 1242007, 'vaccination': {'biontech': 1091821, 'moderna': 95120, 'astraZeneca': 55065, 'janssen': 1}, 'delta': 39587, 'quote': 0.09463100098691501}, 'indication': {'age': None, 'job': None, 'medical': None, 'nursingHome': None, 'secondVaccination': {'age': None, 'job': None, 'medical': None, 'nursingHome': None}}}, 'BE': {'name': 'Berlin', 'administeredVaccinations': 1568820, 'vaccinated': 1144475, 'vaccination': {'biontech': 800748, 'moderna': 71834, 'astraZeneca': 271893}, 'delta': 36362, 'quote': 0.3118893056284918, 'secondVaccination': {'vaccinated': 424345, 'vaccination': {'biontech': 366991, 'moderna': 50378, 'astraZeneca': 4137, 'janssen': 2839}, 'delta': 10157, 'quote': 0.11564137914495498}, 'indication': {'age': None, 'job': None, 'medical': None, 'nursingHome': None, 'secondVaccination': {'age': None, 'job': None, 'medical': None, 'nursingHome': None}}}, 'BB': {'name': 'Brandenburg', 'administeredVaccinations': 1027110, 'vaccinated': 759468, 'vaccination': {'biontech': 517414, 'moderna': 55479, 'astraZeneca': 186575}, 'delta': 22454, 'quote': 0.3011499694872066, 'secondVaccination': {'vaccinated': 267642, 'vaccination': {'biontech': 231923, 'moderna': 24028, 'astraZeneca': 10964, 'janssen': 727}, 'delta': 15608, 'quote': 0.10612742094926311}, 'indication': {'age': None, 'job': None, 'medical': None, 'nursingHome': None, 'secondVaccination': {'age': None, 'job': None, 'medical': None, 'nursingHome': None}}}, 'HB': {'name': 'Bremen', 'administeredVaccinations': 329573, 'vaccinated': 241707, 'vaccination': {'biontech': 159717, 'moderna': 12893, 'astraZeneca': 69097}, 'delta': 6457, 'quote': 0.35482426651712706, 'secondVaccination': {'vaccinated': 87866, 'vaccination': {'biontech': 79531, 'moderna': 5119, 'astraZeneca': 1616, 'janssen': 1600}, 'delta': 2853, 'quote': 0.12898670291631556}, 'indication': {'age': None, 'job': None, 'medical': None, 'nursingHome': None, 'secondVaccination': {'age': None, 'job': None, 'medical': None, 'nursingHome': None}}}, 'HH': {'name': 'Hamburg', 'administeredVaccinations': 795322, 'vaccinated': 626907, 'vaccination': {'biontech': 427305, 'moderna': 52841, 'astraZeneca': 146761}, 'delta': 14144, 'quote': 0.33937257105550783, 'secondVaccination': {'vaccinated': 168415, 'vaccination': {'biontech': 154942, 'moderna': 10638, 'astraZeneca': 1998, 'janssen': 837}, 'delta': 3994, 'quote': 0.09117051102366595}, 'indication': {'age': None, 'job': None, 'medical': None, 'nursingHome': None, 'secondVaccination': {'age': None, 'job': None, 'medical': None, 'nursingHome': None}}}, 'HE': {'name': 'Hessen', 'administeredVaccinations': 2711174, 'vaccinated': 2145081, 'vaccination': {'biontech': 1413801, 'moderna': 160970, 'astraZeneca': 570310}, 'delta': 58077, 'quote': 0.34113449574432897, 'secondVaccination': {'vaccinated': 566093, 'vaccination': {'biontech': 519169, 'moderna': 27188, 'astraZeneca': 19693, 'janssen': 43}, 'delta': 14629, 'quote': 0.09002636734901591}, 'indication': {'age': None, 'job': None, 'medical': None, 'nursingHome': None, 'secondVaccination': {'age': None, 'job': None, 'medical': None, 'nursingHome': None}}}, 'MV': {'name': 'Mecklenburg-Vorpommern', 'administeredVaccinations': 738381, 'vaccinated': 588299, 'vaccination': {'biontech': 427300, 'moderna': 39436, 'astraZeneca': 121563}, 'delta': 17059, 'quote': 0.3658261915333137, 'secondVaccination': {'vaccinated': 150082, 'vaccination': {'biontech': 137728, 'moderna': 9391, 'astraZeneca': 2532, 'janssen': 431}, 'delta': 6939, 'quote': 0.09332656774480796}, 'indication': {'age': None, 'job': None, 'medical': None, 'nursingHome': None, 'secondVaccination': {'age': None, 'job': None, 'medical': None, 'nursingHome': None}}}, 'NI': {'name': 'Niedersachsen', 'administeredVaccinations': 3523625, 'vaccinated': 2836704, 'vaccination': {'biontech': 1833418, 'moderna': 192750, 'astraZeneca': 810536}, 'delta': 79476, 'quote': 0.3548715423623475, 'secondVaccination': {'vaccinated': 686921, 'vaccination': {'biontech': 614883, 'moderna': 43600, 'astraZeneca': 17087, 'janssen': 11351}, 'delta': 20956, 'quote': 0.08593378609508998}, 'indication': {'age': None, 'job': None, 'medical': None, 'nursingHome': None, 'secondVaccination': {'age': None, 'job': None, 'medical': None, 'nursingHome': None}}}, 'NW': {'name': 'Nordrhein-Westfalen', 'administeredVaccinations': 8144001, 'vaccinated': 6513730, 'vaccination': {'biontech': 4529484, 'moderna': 360951, 'astraZeneca': 1623295}, 'delta': 180587, 'quote': 0.36293808384038956, 'secondVaccination': {'vaccinated': 1630271, 'vaccination': {'biontech': 1499920, 'moderna': 97612, 'astraZeneca': 29466, 'janssen': 3273}, 'delta': 35083, 'quote': 0.09083696021796354}, 'indication': {'age': None, 'job': None, 'medical': None, 'nursingHome': None, 'secondVaccination': {'age': None, 'job': None, 'medical': None, 'nursingHome': None}}}, 'RP': {'name': 'Rheinland-Pfalz', 'administeredVaccinations': 1827901, 'vaccinated': 1347509, 'vaccination': {'biontech': 951547, 'moderna': 67221, 'astraZeneca': 328741}, 'delta': 39372, 'quote': 0.32915020214206353, 'secondVaccination': {'vaccinated': 480392, 'vaccination': {'biontech': 423161, 'moderna': 33933, 'astraZeneca': 23298, 'janssen': 0}, 'delta': 14946, 'quote': 0.11734327852907116}, 'indication': {'age': None, 'job': None, 'medical': None, 'nursingHome': None, 'secondVaccination': {'age': None, 'job': None, 'medical': None, 'nursingHome': None}}}, 'SL': {'name': 'Saarland', 'administeredVaccinations': 482446, 'vaccinated': 381473, 'vaccination': {'biontech': 295862, 'moderna': 27177, 'astraZeneca': 58434}, 'delta': 11273, 'quote': 0.3865417215952789, 'secondVaccination': {'vaccinated': 100973, 'vaccination': {'biontech': 90631, 'moderna': 7387, 'astraZeneca': 2955, 'janssen': 0}, 'delta': 3218, 'quote': 0.10231465203209689}, 'indication': {'age': None, 'job': None, 'medical': None, 'nursingHome': None, 'secondVaccination': {'age': None, 'job': None, 'medical': None, 'nursingHome': None}}}, 'SN': {'name': 'Sachsen', 'administeredVaccinations': 1770726, 'vaccinated': 1212974, 'vaccination': {'biontech': 866322, 'moderna': 75675, 'astraZeneca': 270977}, 'delta': 26708, 'quote': 0.29788375211905976, 'secondVaccination': {'vaccinated': 557752, 'vaccination': {'biontech': 518223, 'moderna': 36821, 'astraZeneca': 2670, 'janssen': 38}, 'delta': 19507, 'quote': 0.13697347058709405}, 'indication': {'age': None, 'job': None, 'medical': None, 'nursingHome': None, 'secondVaccination': {'age': None, 'job': None, 'medical': None, 'nursingHome': None}}}, 'ST': {'name': 'Sachsen-Anhalt', 'administeredVaccinations': 956506, 'vaccinated': 737063, 'vaccination': {'biontech': 523614, 'moderna': 50482, 'astraZeneca': 162967}, 'delta': 19698, 'quote': 0.3358251525664052, 'secondVaccination': {'vaccinated': 219443, 'vaccination': {'biontech': 187369, 'moderna': 25999, 'astraZeneca': 6045, 'janssen': 30}, 'delta': 10464, 'quote': 0.09998396196068676}, 'indication': {'age': None, 'job': None, 'medical': None, 'nursingHome': None, 'secondVaccination': {'age': None, 'job': None, 'medical': None, 'nursingHome': None}}}, 'SH': {'name': 'Schleswig-Holstein', 'administeredVaccinations': 1273869, 'vaccinated': 927333, 'vaccination': {'biontech': 671061, 'moderna': 53928, 'astraZeneca': 202344}, 'delta': 26481, 'quote': 0.3193545087718634, 'secondVaccination': {'vaccinated': 346536, 'vaccination': {'biontech': 307123, 'moderna': 29692, 'astraZeneca': 9721, 'janssen': 0}, 'delta': 13364, 'quote': 0.11933990707951345}, 'indication': {'age': None, 'job': None, 'medical': None, 'nursingHome': None, 'secondVaccination': {'age': None, 'job': None, 'medical': None, 'nursingHome': None}}}, 'TH': {'name': 'Thüringen', 'administeredVaccinations': 972038, 'vaccinated': 665463, 'vaccination': {'biontech': 487841, 'moderna': 40361, 'astraZeneca': 137261}, 'delta': 18601, 'quote': 0.3119292502313233, 'secondVaccination': {'vaccinated': 306575, 'vaccination': {'biontech': 283342, 'moderna': 19869, 'astraZeneca': 3295, 'janssen': 69}, 'delta': 8885, 'quote': 0.14370402244703}, 'indication': {'age': None, 'job': None, 'medical': None, 'nursingHome': None, 'secondVaccination': {'age': None, 'job': None, 'medical': None, 'nursingHome': None}}}, 'Bund': {'name': 'Impfzentren Bund*', 'administeredVaccinations': 85412, 'vaccinated': 74269, 'vaccination': {'biontech': 1383, 'moderna': 55054, 'astraZeneca': 17832}, 'delta': 2066, 'quote': None, 'secondVaccination': {'vaccinated': 11143, 'vaccination': {'biontech': 10, 'moderna': 10188, 'astraZeneca': 99, 'janssen': None}, 'delta': 1518, 'quote': None}, 'indication': {'age': None, 'job': None, 'medical': None, 'nursingHome': None, 'secondVaccination': {'age': None, 'job': None, 'medical': None, 'nursingHome': None}}}}}, 'meta': {'source': 'Robert Koch-Institut', 'contact': 'Marlon Lueckert (m.lueckert@me.com)', 'info': 'https://github.com/marlon360/rki-covid-api', 'lastUpdate': '2021-05-12T14:21:42.000Z', 'lastCheckedForUpdate': '2021-05-12T16:09:56.966Z'}}\n",
      "{'name': 'Berlin', 'administeredVaccinations': 1568820, 'vaccinated': 1144475, 'vaccination': {'biontech': 800748, 'moderna': 71834, 'astraZeneca': 271893}, 'delta': 36362, 'quote': 0.3118893056284918, 'secondVaccination': {'vaccinated': 424345, 'vaccination': {'biontech': 366991, 'moderna': 50378, 'astraZeneca': 4137, 'janssen': 2839}, 'delta': 10157, 'quote': 0.11564137914495498}, 'indication': {'age': None, 'job': None, 'medical': None, 'nursingHome': None, 'secondVaccination': {'age': None, 'job': None, 'medical': None, 'nursingHome': None}}}\n"
     ]
    }
   ],
   "source": [
    "# requests Modul importieren (muss vorher mit pip installiert werden)\n",
    "import requests\n",
    "\n",
    "# Abfrage der aktuellen Corona-Zahlen für Deutschland (in Klammern steht immer der jeweilige Endpoint)\n",
    "# speichern in Variable corona_numbers\n",
    "corona_numbers = requests.get('https://api.corona-zahlen.org/germany')\n",
    "\n",
    "# Abfrage der aktuellen Impfstatistik weltweit (in Klammern steht immer der jeweilige Endpoint)\n",
    "# speichern in Variable vaccinations\n",
    "vaccinations = requests.get('https://api.corona-zahlen.org/vaccinations')\n",
    "\n",
    "# Ausgabe der Daten (mithilfe der [] kann auf bestimmte Datenpunkte innerhalb der JSON-Struktur zugegriffen werden)\n",
    "print(corona_numbers.json())\n",
    "print(corona_numbers.json()[\"weekIncidence\"])\n",
    "print(vaccinations.json())\n",
    "print(vaccinations.json()[\"data\"][\"states\"][\"BE\"])"
   ]
  },
  {
   "cell_type": "markdown",
   "id": "30a421c8",
   "metadata": {},
   "source": []
  }
 ],
 "metadata": {
  "kernelspec": {
   "display_name": "Python 3",
   "language": "python",
   "name": "python3"
  },
  "language_info": {
   "codemirror_mode": {
    "name": "ipython",
    "version": 3
   },
   "file_extension": ".py",
   "mimetype": "text/x-python",
   "name": "python",
   "nbconvert_exporter": "python",
   "pygments_lexer": "ipython3",
   "version": "3.9.4"
  }
 },
 "nbformat": 4,
 "nbformat_minor": 5
}
